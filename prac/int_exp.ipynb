{
 "cells": [
  {
   "cell_type": "code",
   "execution_count": 131,
   "metadata": {},
   "outputs": [],
   "source": [
    "import matplotlib.pyplot as plt\n",
    "import torch\n",
    "def int_exp_shift( x_int, scaling_factor):\n",
    "    _n = 16\n",
    "    \n",
    "    x_int = x_int + (x_int / 2).floor() - (x_int / 2**4).floor()\n",
    "\n",
    "    with torch.no_grad():\n",
    "        x0_int = torch.floor(-1.0 / scaling_factor)\n",
    "    x_int = torch.max(x_int, _n * x0_int)\n",
    "\n",
    "    q = (x_int / x0_int).floor()\n",
    "    r = x_int - x0_int * q\n",
    "    exp_int = r / 2 - x0_int\n",
    "    exp_int = torch.clamp((exp_int * 2 ** (_n - q)).floor(), min=0)\n",
    "    scaling_factor = scaling_factor / 2**_n\n",
    "    return exp_int, scaling_factor"
   ]
  },
  {
   "cell_type": "code",
   "execution_count": 132,
   "metadata": {},
   "outputs": [],
   "source": [
    "x_fp = torch.randn(10000)\n",
    "\n",
    "s_x = x_fp.abs().max() / 127\n",
    "x_int = (x_fp / s_x).round()\n",
    "\n",
    "\n",
    "exp_int, scaling_factor = int_exp_shift(x_int, s_x)"
   ]
  },
  {
   "cell_type": "code",
   "execution_count": 133,
   "metadata": {},
   "outputs": [
    {
     "name": "stdout",
     "output_type": "stream",
     "text": [
      "tensor(-4.4362) tensor(3.9776)\n",
      "tensor(25088.) tensor(1.0066e+08)\n",
      "tensor(0.0118) tensor(53.3888)\n",
      "tensor(0.0134) tensor(53.6537)\n"
     ]
    }
   ],
   "source": [
    "print(x_fp.min(), x_fp.max())\n",
    "print(exp_int.min(), exp_int.max())\n",
    "exp_hat = exp_int * scaling_factor\n",
    "\n",
    "exp_fp = torch.exp(x_fp)\n",
    "print(exp_fp.min(), exp_fp.max())\n",
    "print(exp_hat.min(), exp_hat.max())"
   ]
  },
  {
   "cell_type": "code",
   "execution_count": 134,
   "metadata": {},
   "outputs": [
    {
     "name": "stdout",
     "output_type": "stream",
     "text": [
      "tensor(10.1600)\n"
     ]
    }
   ],
   "source": [
    "print(torch.norm(exp_fp - exp_hat) )"
   ]
  },
  {
   "cell_type": "code",
   "execution_count": 135,
   "metadata": {},
   "outputs": [
    {
     "data": {
      "image/png": "[encoded data removed]",
      "text/plain": [
       "<Figure size 640x480 with 2 Axes>"
      ]
     },
     "metadata": {},
     "output_type": "display_data"
    }
   ],
   "source": [
    "fig, ax = plt.subplots(2, 1)\n",
    "ax[0].hist(exp_fp.numpy(), bins=100)\n",
    "ax[1].hist(exp_hat.numpy(), bins=100)\n",
    "plt.show()"
   ]
  },
  {
   "cell_type": "code",
   "execution_count": 155,
   "metadata": {},
   "outputs": [
    {
     "name": "stdout",
     "output_type": "stream",
     "text": [
      "tensor(2.7183)\n",
      "tensor(1)\n",
      "tensor(1.)\n",
      "tensor(-127.)\n",
      "q, r tensor(-1.) tensor(-126.)\n",
      "tensor(64.) 8\n",
      "tensor(1.0079)\n",
      "tensor(131072.) tensor(7.6895e-06)\n"
     ]
    }
   ],
   "source": [
    "import matplotlib.pyplot as plt\n",
    "import torch\n",
    "\n",
    "\n",
    "def bits_required(x_int):\n",
    "    # 절대값을 취하고 이진수 변환 후, 부호 비트 포함해서 비트 수 계산\n",
    "    x_int = int(x_int.item())  # 텐서에서 파이썬 정수로 변환\n",
    "    if x_int == 0:\n",
    "        return 1  # 0은 1비트로 표현 가능\n",
    "    return (\n",
    "        len(bin(abs(x_int))) - 2 + 1\n",
    "    )  # bin()은 '0b'로 시작하기 때문에 -2, 부호 비트 포함\n",
    "\n",
    "\n",
    "def int_exp_shift(x_int, scaling_factor):\n",
    "    _n = 10\n",
    "    print(x_int)\n",
    "    x_int = x_int + (x_int / 2).floor() - (x_int / 2**4).floor()\n",
    "    print(x_int)\n",
    "    with torch.no_grad():\n",
    "        x0_int = torch.floor(-1.0 / scaling_factor)\n",
    "        print(x0_int)\n",
    "    x_int = torch.max(x_int, _n * x0_int)\n",
    "\n",
    "    q = (x_int / x0_int).floor()\n",
    "    r = x_int - x0_int * q\n",
    "    print(\"q, r\", q, r)\n",
    "    exp_int = r / 2 - x0_int\n",
    "    print(exp_int, bits_required(exp_int))\n",
    "    exp_int = torch.clamp((exp_int * 2 ** (_n - q)).floor(), min=0)\n",
    "    scaling_factor = scaling_factor / 2**_n\n",
    "    return exp_int, scaling_factor\n",
    "\n",
    "# x_fp = 1\n",
    "# s_x = 1/127\n",
    "dja = torch.tensor(1)\n",
    "print(torch.exp(dja))\n",
    "wns = torch.tensor(1/127)\n",
    "dja, wns = int_exp_shift(dja, wns)\n",
    "print(dja*wns)\n",
    "print(dja, wns)"
   ]
  },
  {
   "cell_type": "code",
   "execution_count": 137,
   "metadata": {},
   "outputs": [
    {
     "data": {
      "text/plain": [
       "0.011318897637795276"
      ]
     },
     "execution_count": 137,
     "metadata": {},
     "output_type": "execute_result"
    }
   ],
   "source": [
    "1.4375/127"
   ]
  },
  {
   "cell_type": "code",
   "execution_count": 144,
   "metadata": {},
   "outputs": [
    {
     "data": {
      "text/plain": [
       "tensor(1.0079)"
      ]
     },
     "execution_count": 144,
     "metadata": {},
     "output_type": "execute_result"
    }
   ],
   "source": [
    "torch.exp(torch.tensor(1/127))"
   ]
  },
  {
   "cell_type": "code",
   "execution_count": null,
   "metadata": {},
   "outputs": [],
   "source": []
  }
 ],
 "metadata": {
  "kernelspec": {
   "display_name": "py312",
   "language": "python",
   "name": "python3"
  },
  "language_info": {
   "codemirror_mode": {
    "name": "ipython",
    "version": 3
   },
   "file_extension": ".py",
   "mimetype": "text/x-python",
   "name": "python",
   "nbconvert_exporter": "python",
   "pygments_lexer": "ipython3",
   "version": "3.12.1"
  }
 },
 "nbformat": 4,
 "nbformat_minor": 2
}
