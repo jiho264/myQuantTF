{
 "cells": [
  {
   "cell_type": "code",
   "execution_count": 578,
   "metadata": {},
   "outputs": [],
   "source": [
    "import torch\n",
    "import math\n",
    "import torch.functional as F\n",
    "import torch.nn as nn\n",
    "import matplotlib.pyplot as plt"
   ]
  },
  {
   "cell_type": "code",
   "execution_count": 579,
   "metadata": {},
   "outputs": [
    {
     "data": {
      "text/plain": [
       "'\\norg from I-BERT code\\n\\n\\n'"
      ]
     },
     "execution_count": 579,
     "metadata": {},
     "output_type": "execute_result"
    }
   ],
   "source": [
    "\"\"\"\n",
    "org from I-BERT code\n",
    "\n",
    "\n",
    "\"\"\"\n",
    "# def i_POLY(self, q, S, a, b, c):\n",
    "#     \"\"\"\n",
    "#     Kim, Sehoon, et al. \"I-bert: Integer-only bert quantization.\" International conference on machine learning. PMLR, 2021.\n",
    "#     ref : https://github.com/kssteven418/I-BERT/blob/ibert/fairseq/quantization/utils/quant_modules.py\n",
    "\n",
    "#     여기 논문에서 알고리즘 1에 _s는 floor하라고 적혀있는데 그렇게 하면 그냥 망해버림.\n",
    "#     \"\"\"\n",
    "#     qb = torch.floor(b / S)  # PRE-COMPUTED >> INT\n",
    "#     qc = torch.floor(c / (a * S**2))  # PRE-COMPUTED >> INT\n",
    "#     # _S = torch.floor(a * S**2)\n",
    "#     _S = a * S**2  # PRE-COMPUTED >> FP\n",
    "#     _q = (q + qb) ** 2 + qc  # >> INT\n",
    "\n",
    "#     return _q, _S  # INT, FP\n",
    "# def i_ERF( q, S):\n",
    "#     a, b, c = -0.2888, -1.769, 1\n",
    "#     a, b, c = torch.tensor(a), torch.tensor(b), torch.tensor(c)\n",
    "\n",
    "#     qb = torch.floor(b / S)\n",
    "#     qc = torch.floor(c/ (a * S ** 2))\n",
    "\n",
    "#     _q = torch.sign(q) * ((torch.min(torch.abs(q), -qb) + qb) ** 2 + qc)\n",
    "\n",
    "#     S_L = a * S**2\n",
    "#     print(\"ddfd\", S_L)\n",
    "#     return _q, S_L\n",
    "\n",
    "# def i_GELU( fp, S):\n",
    "\n",
    "#     q = (fp / S).round()\n",
    "#     q_erf, S_erf = i_ERF(q, S / 1.4142)\n",
    "#     q1 = torch.floor(1 / S_erf)\n",
    "\n",
    "#     _q, _S = q * (q_erf + q1), S * S_erf / 2\n",
    "\n",
    "#     return _q * _S , _S"
   ]
  },
  {
   "cell_type": "code",
   "execution_count": 580,
   "metadata": {},
   "outputs": [],
   "source": [
    "def i_ERF( q, S):\n",
    "    with torch.no_grad():\n",
    "        a, b, c = -0.2888, -1.769, 1\n",
    "        a, b, c = torch.tensor(a), torch.tensor(b), torch.tensor(c)\n",
    "        qb = torch.floor(b / S)  # PRE-COMPUTED >> INT\n",
    "        qc = torch.floor(c / (a * S**2))  # PRE-COMPUTED >> INT\n",
    "\n",
    "    \"\"\"ONLY INT OPERATION\"\"\"\n",
    "    _q = q.sign() * ((torch.min(q.abs(), -qb) + qb).pow(2) + qc)\n",
    "\n",
    "    _S = a * S**2  # PRE-COMPUTED >> FP\n",
    "\n",
    "    return _q, _S\n",
    "\n",
    "def i_GELU( q, S):\n",
    "    with torch.device(q.device):\n",
    "\n",
    "        # input : (INT, PRE-COMPUTED-FP)\n",
    "        q_erf, S_erf = i_ERF(q, S / 1.4142)\n",
    "        # output : (INT, PRE-COMPUTED-FP)\n",
    "\n",
    "        q1 = torch.floor(1 / S_erf)  # floor(1 / PRE-COMPUTED-FP) >> INT\n",
    "\n",
    "        _q = q * (q_erf + q1)  # INT\n",
    "        _S = S * S_erf / 2  # PRE-COMPUTED-FP\n",
    "\n",
    "        return _q, _S\n"
   ]
  },
  {
   "cell_type": "code",
   "execution_count": 581,
   "metadata": {},
   "outputs": [],
   "source": [
    "k = 1.4142\n",
    "coeff = [-0.2888, -1.769, 1] # a(x+b)**2 + c\n",
    "coeff[2] /= coeff[0]\n",
    "\n",
    "def int_erf( x_int, scaling_factor):\n",
    "    with torch.no_grad():\n",
    "        b_int = torch.floor(coeff[1] / scaling_factor)\n",
    "        c_int = torch.floor(coeff[2] / scaling_factor ** 2)\n",
    "\n",
    "    with torch.no_grad():\n",
    "        sign = torch.sign(x_int)\n",
    "    abs_int = torch.abs(x_int)\n",
    "    abs_int = torch.min(abs_int, -b_int)\n",
    "    y_int = (abs_int + b_int) ** 2 + c_int\n",
    "    y_int = sign * y_int\n",
    "    scaling_factor = scaling_factor ** 2 * coeff[0]\n",
    "    print(\"ddfd\", scaling_factor)\n",
    "    \n",
    "    return y_int, scaling_factor\n",
    "\n",
    "\n",
    "def INTGELU(x, scaling_factor=None):\n",
    "    x_int = x / scaling_factor\n",
    "    x_int = x_int.round()\n",
    "    sigmoid_int, sigmoid_scaling_factor = int_erf(x_int, scaling_factor / k)\n",
    "\n",
    "    shift_int = torch.floor(1. / sigmoid_scaling_factor)\n",
    "\n",
    "    x_int = x_int * (sigmoid_int + shift_int)\n",
    "    scaling_factor = scaling_factor * sigmoid_scaling_factor / 2\n",
    "    \n",
    "    return x_int * scaling_factor, scaling_factor"
   ]
  },
  {
   "cell_type": "code",
   "execution_count": 582,
   "metadata": {},
   "outputs": [
    {
     "name": "stdout",
     "output_type": "stream",
     "text": [
      "tensor(-0.1700) tensor(4.4223)\n"
     ]
    },
    {
     "data": {
      "image/png": "[encoded data removed]",
      "text/plain": [
       "<Figure size 640x480 with 1 Axes>"
      ]
     },
     "metadata": {},
     "output_type": "display_data"
    },
    {
     "name": "stdout",
     "output_type": "stream",
     "text": [
      "ddfd tensor(-0.0002)\n"
     ]
    },
    {
     "data": {
      "image/png": "[encoded data removed]",
      "text/plain": [
       "<Figure size 640x480 with 1 Axes>"
      ]
     },
     "metadata": {},
     "output_type": "display_data"
    },
    {
     "name": "stdout",
     "output_type": "stream",
     "text": [
      "tensor(4.1217)\n",
      "tensor(4.1214)\n",
      "tensor(False)\n"
     ]
    }
   ],
   "source": [
    "x_fp = torch.randn((1, 197, 768))\n",
    "\n",
    "# plt.hist(x_fp[0, 0, :].cpu().numpy(), bins=100)\n",
    "# plt.show()\n",
    "gelu = nn.GELU()\n",
    "\n",
    "org_gelu_output = gelu(x_fp)\n",
    "# plt.hist(org_gelu_output[0, 0, :].cpu().numpy(), bins=100)\n",
    "# plt.show()\n",
    "\n",
    "print(org_gelu_output.min(), org_gelu_output.max())\n",
    "\n",
    "\n",
    "scaler = x_fp.abs().max() / 127\n",
    "\n",
    "from utils.int_functions import int_GELU, int_ERF\n",
    "\n",
    "myint_gelu_output, _ = int_GELU((x_fp / scaler).round(), scaler)\n",
    "# myint_gelu_output, _ = int_GELU((x_fp / scaler).round(), scaler)\n",
    "myint_gelu_output *= _\n",
    "plt.hist(myint_gelu_output[0, 0, :].cpu().numpy(), bins=100)\n",
    "plt.show()\n",
    "\n",
    "int_gelu_output, _ = INTGELU(x_fp, scaler)\n",
    "plt.hist(int_gelu_output[0, 0, :].cpu().numpy(), bins=100)\n",
    "plt.show()\n",
    "\n",
    "print(torch.norm(org_gelu_output - myint_gelu_output))\n",
    "print(torch.norm(org_gelu_output - int_gelu_output))\n",
    "print(torch.eq(myint_gelu_output, int_gelu_output).all())"
   ]
  },
  {
   "cell_type": "code",
   "execution_count": 583,
   "metadata": {},
   "outputs": [
    {
     "name": "stdout",
     "output_type": "stream",
     "text": [
      "231\n",
      "188\n"
     ]
    }
   ],
   "source": [
    "print(len(set(myint_gelu_output.flatten().tolist())))\n",
    "print(len(set(int_gelu_output.flatten().tolist())))"
   ]
  },
  {
   "cell_type": "code",
   "execution_count": 584,
   "metadata": {},
   "outputs": [
    {
     "name": "stdout",
     "output_type": "stream",
     "text": [
      "torch.Size([1, 1, 197, 1])\n",
      "torch.Size([1, 1, 197, 197])\n",
      "tensor(0.2338)\n"
     ]
    }
   ],
   "source": [
    "def second_order_polynomial(x_q, s_x, a, b, c):\n",
    "    \"\"\"a(x+b)^2 + c\"\"\"\n",
    "    \"\"\"Kim, Sehoon, et al. \"I-bert: Integer-only bert quantization.\" International conference on machine learning. PMLR, 2021.\"\"\"\n",
    "    with torch.no_grad():\n",
    "        # [ Can be pre-computed ]\n",
    "        q_b = torch.floor(b / s_x)  # PRE-COMPUTED >> INT\n",
    "        q_c = torch.floor(c / (a * s_x**2))  # PRE-COMPUTED >> INT\n",
    "        s_out = a * s_x**2  # PRE-COMPUTED-FP\n",
    "\n",
    "    q_out = (x_q + q_b).pow(2) + q_c\n",
    "\n",
    "    return q_out, s_out\n",
    "\n",
    "\n",
    "def int_EXP(x_q, s_x):\n",
    "    with torch.no_grad():\n",
    "        a, b, c = 0.3585, 1.353, 0.344\n",
    "        a, b, c = torch.tensor(a), torch.tensor(b), torch.tensor(c)\n",
    "\n",
    "        q_ln2 = torch.floor(math.log(2) / s_x)  # PRE-COMPUTED >> INT\n",
    "        \n",
    "    \"\"\"ONLY INT OPERATION\"\"\"\n",
    "    z = torch.floor(-x_q / q_ln2)  # INT\n",
    "\n",
    "    q_p = x_q + z * q_ln2  # INT\n",
    "\n",
    "    q_L, s_L = second_order_polynomial(q_p, s_x, a, b, c)\n",
    "\n",
    "    q_out = (q_L / 2**z).round()  # INT\n",
    "\n",
    "    return q_out, s_L\n",
    "\n",
    "\n",
    "def int_Softmax(x_q, s_x):\n",
    "    x_q_max = x_q.max(dim=-1, keepdim=True).values\n",
    "    print(x_q_max.shape)\n",
    "    q_hat = x_q - x_q_max\n",
    "    q_exp, s_exp = int_EXP(q_hat, s_x)\n",
    "\n",
    "    q_exp_sum = q_exp.sum(dim=-1, keepdim=True)\n",
    "    re = ((q_exp / q_exp_sum) * 255).round()\n",
    "    return re , 1/255\n",
    "\n",
    "qk = torch.randn((1, 1, 197,197))\n",
    "\n",
    "scaler = qk.abs().max() / 127\n",
    "\n",
    "qk_int = (qk / scaler).round()\n",
    "\n",
    "mysoftmax, _ = int_Softmax(qk_int, scaler)\n",
    "mysoftmax *= _\n",
    "print(mysoftmax.shape)\n",
    "orgsoftmax = torch.softmax(qk, dim=-1)\n",
    "\n",
    "print(torch.norm(mysoftmax - orgsoftmax))"
   ]
  },
  {
   "cell_type": "code",
   "execution_count": 585,
   "metadata": {},
   "outputs": [
    {
     "name": "stdout",
     "output_type": "stream",
     "text": [
      "tensor(0.) tensor(0.1412) tensor(191.8196)\n"
     ]
    },
    {
     "data": {
      "image/png": "[encoded data removed]",
      "text/plain": [
       "<Figure size 640x480 with 1 Axes>"
      ]
     },
     "metadata": {},
     "output_type": "display_data"
    }
   ],
   "source": [
    "plt.hist(mysoftmax.flatten().cpu().numpy(), bins=100)\n",
    "print(mysoftmax.min(), mysoftmax.max(), mysoftmax.sum())\n",
    "plt.show()"
   ]
  },
  {
   "cell_type": "code",
   "execution_count": 586,
   "metadata": {},
   "outputs": [
    {
     "name": "stdout",
     "output_type": "stream",
     "text": [
      "tensor(5.1575e-05) tensor(0.1422) tensor(197.)\n"
     ]
    },
    {
     "data": {
      "image/png": "[encoded data removed]",
      "text/plain": [
       "<Figure size 640x480 with 1 Axes>"
      ]
     },
     "metadata": {},
     "output_type": "display_data"
    }
   ],
   "source": [
    "plt.hist(orgsoftmax.flatten().cpu().numpy(), bins=100)\n",
    "print(orgsoftmax.min(), orgsoftmax.max(), orgsoftmax.sum())\n",
    "plt.show()"
   ]
  },
  {
   "cell_type": "code",
   "execution_count": 596,
   "metadata": {},
   "outputs": [
    {
     "name": "stdout",
     "output_type": "stream",
     "text": [
      "qk_int minmax : (tensor(-32.), tensor(29.), tensor(-2366.))\n",
      "q_exp minmax : (tensor(0.), tensor(155.), tensor(658348.))\n"
     ]
    },
    {
     "data": {
      "image/png": "[encoded data removed]",
      "text/plain": [
       "<Figure size 640x480 with 1 Axes>"
      ]
     },
     "metadata": {},
     "output_type": "display_data"
    },
    {
     "name": "stdout",
     "output_type": "stream",
     "text": [
      "q_out minmax : (tensor(0.), tensor(0.1530), tensor(197.0000))\n",
      "diff : 1.8481922149658203\n"
     ]
    },
    {
     "data": {
      "image/png": "[encoded data removed]",
      "text/plain": [
       "<Figure size 640x480 with 1 Axes>"
      ]
     },
     "metadata": {},
     "output_type": "display_data"
    }
   ],
   "source": [
    "def second_order_polynomial(x_q, s_x, a, b, c):\n",
    "    \"\"\"a(x+b)^2 + c\"\"\"\n",
    "    \"\"\"Kim, Sehoon, et al. \"I-bert: Integer-only bert quantization.\" International conference on machine learning. PMLR, 2021.\"\"\"\n",
    "    with torch.no_grad():\n",
    "        # [ Can be pre-computed ]\n",
    "        q_b = torch.floor(b / s_x)  # PRE-COMPUTED >> INT\n",
    "        q_c = torch.floor(c / (a * s_x**2))  # PRE-COMPUTED >> INT\n",
    "        s_out = a * s_x**2  # PRE-COMPUTED-FP\n",
    "\n",
    "    q_out = (x_q + q_b).pow(2) + q_c\n",
    "\n",
    "    return q_out, s_out\n",
    "\n",
    "\n",
    "def int_EXP(x_q, s_x):\n",
    "    with torch.no_grad():\n",
    "        a, b, c = 0.3585, 1.353, 0.344\n",
    "        a, b, c = torch.tensor(a), torch.tensor(b), torch.tensor(c)\n",
    "\n",
    "        q_ln2 = torch.floor(math.log(2) / s_x)  # PRE-COMPUTED >> INT\n",
    "\n",
    "    \"\"\"ONLY INT OPERATION\"\"\"\n",
    "    z = torch.floor(-x_q / q_ln2)  # INT\n",
    "\n",
    "    q_p = x_q + z * q_ln2  # INT\n",
    "\n",
    "    q_L, s_L = second_order_polynomial(q_p, s_x, a, b, c)\n",
    "\n",
    "    q_out = (q_L / 2**z).round()  # INT\n",
    "\n",
    "    return q_out, s_L\n",
    "\n",
    "\n",
    "def int_Softmax(x_q, s_x):\n",
    "    x_q = x_q - x_q.max(dim=-1, keepdim=True).values\n",
    "\n",
    "    q_exp, _ = int_EXP(x_q, s_x)\n",
    "\n",
    "    print(f\"q_exp minmax : {q_exp.min(), q_exp.max(), q_exp.sum()}\")\n",
    "    plt.hist(q_exp.flatten().cpu().numpy(), bins=100)\n",
    "    plt.show()\n",
    "\n",
    "    q_exp_sum = q_exp.sum(dim=-1, keepdim=True)\n",
    "\n",
    "    q_out = (q_exp / q_exp_sum)\n",
    "    print(f\"q_out minmax : {q_out.min(), q_out.max(), q_out.sum()}\")\n",
    "    return q_out, 0\n",
    "\n",
    "\n",
    "qk = torch.randn((1, 1, 197, 197))\n",
    "scaler = qk.abs().max() / 32\n",
    "qk_int = (qk / scaler).round()\n",
    "print(f\"qk_int minmax : {qk_int.min(), qk_int.max(), qk_int.sum()}\")\n",
    "mysoftmax, _ = int_Softmax(qk_int, scaler)\n",
    "\n",
    "print(f\"diff : {torch.norm(mysoftmax - orgsoftmax)}\")\n",
    "plt.hist(mysoftmax.flatten().cpu().numpy(), bins=100)\n",
    "plt.title(\"mysoftmax\")\n",
    "plt.show()"
   ]
  },
  {
   "cell_type": "code",
   "execution_count": null,
   "metadata": {},
   "outputs": [],
   "source": []
  }
 ],
 "metadata": {
  "kernelspec": {
   "display_name": "py312",
   "language": "python",
   "name": "python3"
  },
  "language_info": {
   "codemirror_mode": {
    "name": "ipython",
    "version": 3
   },
   "file_extension": ".py",
   "mimetype": "text/x-python",
   "name": "python",
   "nbconvert_exporter": "python",
   "pygments_lexer": "ipython3",
   "version": "3.12.1"
  }
 },
 "nbformat": 4,
 "nbformat_minor": 2
}
