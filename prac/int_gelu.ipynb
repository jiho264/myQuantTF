{
 "cells": [
  {
   "cell_type": "code",
   "execution_count": 203,
   "metadata": {},
   "outputs": [],
   "source": [
    "import torch, math\n",
    "import torch.nn as nn\n",
    "import torch.nn.functional as F"
   ]
  },
  {
   "cell_type": "code",
   "execution_count": 204,
   "metadata": {},
   "outputs": [],
   "source": [
    "torch.manual_seed(0)\n",
    "torch.random.manual_seed(0)\n",
    "x = torch.randn(1, 1, 32, 32)"
   ]
  },
  {
   "cell_type": "markdown",
   "metadata": {},
   "source": [
    "# 1"
   ]
  },
  {
   "cell_type": "markdown",
   "metadata": {},
   "source": []
  },
  {
   "cell_type": "code",
   "execution_count": 209,
   "metadata": {},
   "outputs": [],
   "source": [
    "import torch, math\n",
    "import torch.nn as nn\n",
    "import torch.nn.functional as F\n",
    "\n",
    "\n",
    "def second_order_polynomial(x_q, s_x, a, b, c):\n",
    "    \"\"\"a(x+b)^2 + c\"\"\"\n",
    "    \"\"\"Kim, Sehoon, et al. \"I-bert: Integer-only bert quantization.\" International conference on machine learning. PMLR, 2021.\"\"\"\n",
    "    with torch.no_grad():\n",
    "        # [ Can be pre-computed ]\n",
    "        q_b = torch.floor(b / s_x)  # PRE-COMPUTED >> INT\n",
    "        q_c = torch.floor(c / (a * s_x**2))  # PRE-COMPUTED >> INT\n",
    "        s_out = a * s_x**2  # PRE-COMPUTED-FP\n",
    "\n",
    "    q_out = (x_q + q_b).pow(2) + q_c\n",
    "\n",
    "    return q_out, s_out\n",
    "\n",
    "\n",
    "def int_ERF(x_q, s_x):\n",
    "    with torch.no_grad():\n",
    "        a, b, c = -0.2888, -1.769, 1\n",
    "        a, b, c = torch.tensor(a), torch.tensor(b), torch.tensor(c)\n",
    "\n",
    "    \"\"\"ONLY INT OPERATION\"\"\"\n",
    "    _q = torch.min(x_q.abs(), -b / s_x)\n",
    "    print(-b / s_x)\n",
    "\n",
    "    q_L, s_L = second_order_polynomial(_q, s_x, a, b, c)\n",
    "\n",
    "    q_out = torch.sign(x_q) * q_L\n",
    "\n",
    "    return q_out, s_L\n",
    "\n",
    "\n",
    "def int_GELU(x_q, s_x):\n",
    "    with torch.device(x_q.device):\n",
    "        # input : (INT, PRE-COMPUTED-FP)\n",
    "        q_erf, s_erf = int_ERF(x_q, s_x / math.sqrt(2))\n",
    "        # output : (INT, PRE-COMPUTED-FP)\n",
    "\n",
    "        q_1 = torch.floor(1 / s_erf)  # floor(1 / PRE-COMPUTED-FP) >> INT\n",
    "\n",
    "        q_out = x_q * (q_erf + q_1)  # INT\n",
    "        s_out = s_x * s_erf / 2  # PRE-COMPUTED-FP\n",
    "\n",
    "        return q_out, s_out"
   ]
  },
  {
   "cell_type": "markdown",
   "metadata": {},
   "source": [
    "(-b/s) 얘의 반올림이 적용되냐 안되냐 차이였음. 적용 안 하는게 맞고, 0.04%p 높음"
   ]
  },
  {
   "cell_type": "markdown",
   "metadata": {},
   "source": [
    "# 2"
   ]
  },
  {
   "cell_type": "code",
   "execution_count": 210,
   "metadata": {},
   "outputs": [],
   "source": [
    "def i_ERF( q, S):\n",
    "    with torch.no_grad():\n",
    "        a, b, c = -0.2888, -1.769, 1\n",
    "        a, b, c = torch.tensor(a), torch.tensor(b), torch.tensor(c)\n",
    "        qb = torch.floor(b / S)  # PRE-COMPUTED >> INT\n",
    "        qc = torch.floor(c / (a * S**2))  # PRE-COMPUTED >> INT\n",
    "\n",
    "    \"\"\"ONLY INT OPERATION\"\"\"\n",
    "    _q = q.sign() * ((torch.min(q.abs(), -b/S) + qb).pow(2) + qc)\n",
    "    print(-b/S)\n",
    "\n",
    "    _S = a * S**2  # PRE-COMPUTED >> FP\n",
    "\n",
    "    return _q, _S\n",
    "\n",
    "def i_GELU( q, S):\n",
    "    with torch.device(q.device):\n",
    "\n",
    "        # input : (INT, PRE-COMPUTED-FP)\n",
    "        q_erf, S_erf = i_ERF(q, S / math.sqrt(2))\n",
    "        # output : (INT, PRE-COMPUTED-FP)\n",
    "\n",
    "        q1 = torch.floor(1 / S_erf)  # floor(1 / PRE-COMPUTED-FP) >> INT\n",
    "\n",
    "        _q = q * (q_erf + q1)  # INT\n",
    "        _S = S * S_erf / 2  # PRE-COMPUTED-FP\n",
    "\n",
    "        return _q, _S"
   ]
  },
  {
   "cell_type": "code",
   "execution_count": 211,
   "metadata": {},
   "outputs": [
    {
     "name": "stdout",
     "output_type": "stream",
     "text": [
      "tensor(-3.1537) tensor(4.1015)\n"
     ]
    }
   ],
   "source": [
    "print(x.min(), x.max())"
   ]
  },
  {
   "cell_type": "code",
   "execution_count": 212,
   "metadata": {},
   "outputs": [
    {
     "name": "stdout",
     "output_type": "stream",
     "text": [
      "tensor(0.0250)\n",
      "tensor(0.0250)\n",
      "tensor([[[[ 1.0702,  1.0954,  0.2382,  ..., -1.6647, -0.9931,  0.8020],\n",
      "          [ 0.5833, -0.0332,  0.4683,  ...,  1.1732, -1.9096,  0.5243],\n",
      "          [ 0.5411, -0.9654, -1.1657,  ...,  0.9092, -0.0352, -0.7452],\n",
      "          ...,\n",
      "          [-1.0669, -1.3503, -2.1849,  ..., -0.8565,  0.5429,  0.1136],\n",
      "          [ 0.4062, -0.8546,  1.3423,  ...,  0.1325,  0.3495,  0.4348],\n",
      "          [ 1.2306, -0.7358,  1.8154,  ..., -0.5640, -1.1361,  1.6260]]]]) tensor(-72200.)\n",
      "tensor([[[[ 1.0702,  1.0954,  0.2382,  ..., -1.6647, -0.9931,  0.8020],\n",
      "          [ 0.5833, -0.0332,  0.4683,  ...,  1.1732, -1.9096,  0.5243],\n",
      "          [ 0.5411, -0.9654, -1.1657,  ...,  0.9092, -0.0352, -0.7452],\n",
      "          ...,\n",
      "          [-1.0669, -1.3503, -2.1849,  ..., -0.8565,  0.5429,  0.1136],\n",
      "          [ 0.4062, -0.8546,  1.3423,  ...,  0.1325,  0.3495,  0.4348],\n",
      "          [ 1.2306, -0.7358,  1.8154,  ..., -0.5640, -1.1361,  1.6260]]]]) tensor(-72200.)\n",
      "torch.Size([1, 1, 32, 32]) torch.Size([1, 1, 32, 32])\n"
     ]
    },
    {
     "data": {
      "text/plain": [
       "tensor(0.)"
      ]
     },
     "execution_count": 212,
     "metadata": {},
     "output_type": "execute_result"
    }
   ],
   "source": [
    "import matplotlib.pyplot as plt\n",
    "\n",
    "\n",
    "x1, s1 = int_GELU(x, 100)\n",
    "\n",
    "x2 , s2= i_GELU(x, 100)\n",
    "\n",
    "print(x1, s1)\n",
    "print(x2, s2)\n",
    "\n",
    "print(x1.shape, x2.shape)\n",
    "\n",
    "torch.norm(x1.float() - x2.float())"
   ]
  },
  {
   "cell_type": "code",
   "execution_count": null,
   "metadata": {},
   "outputs": [],
   "source": []
  },
  {
   "cell_type": "code",
   "execution_count": null,
   "metadata": {},
   "outputs": [],
   "source": []
  }
 ],
 "metadata": {
  "kernelspec": {
   "display_name": "py312",
   "language": "python",
   "name": "python3"
  },
  "language_info": {
   "codemirror_mode": {
    "name": "ipython",
    "version": 3
   },
   "file_extension": ".py",
   "mimetype": "text/x-python",
   "name": "python",
   "nbconvert_exporter": "python",
   "pygments_lexer": "ipython3",
   "version": "3.12.1"
  }
 },
 "nbformat": 4,
 "nbformat_minor": 2
}
