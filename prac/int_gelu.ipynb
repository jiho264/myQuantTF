{
 "cells": [
  {
   "cell_type": "code",
   "execution_count": 1,
   "metadata": {},
   "outputs": [],
   "source": [
    "import torch\n",
    "import math\n",
    "import torch.functional as F\n",
    "import torch.nn as nn\n",
    "import matplotlib.pyplot as plt"
   ]
  },
  {
   "cell_type": "code",
   "execution_count": 2,
   "metadata": {},
   "outputs": [
    {
     "data": {
      "text/plain": [
       "'\\norg from I-BERT code\\n\\n'"
      ]
     },
     "execution_count": 2,
     "metadata": {},
     "output_type": "execute_result"
    }
   ],
   "source": [
    "\"\"\"\n",
    "org from I-BERT code\n",
    "\n",
    "\n",
    "\"\"\"\n",
    "# def i_POLY(self, q, S, a, b, c):\n",
    "#     \"\"\"\n",
    "#     Kim, Sehoon, et al. \"I-bert: Integer-only bert quantization.\" International conference on machine learning. PMLR, 2021.\n",
    "#     ref : https://github.com/kssteven418/I-BERT/blob/ibert/fairseq/quantization/utils/quant_modules.py\n",
    "\n",
    "#     여기 논문에서 알고리즘 1에 _s는 floor하라고 적혀있는데 그렇게 하면 그냥 망해버림.\n",
    "#     \"\"\"\n",
    "#     qb = torch.floor(b / S)  # PRE-COMPUTED >> INT\n",
    "#     qc = torch.floor(c / (a * S**2))  # PRE-COMPUTED >> INT\n",
    "#     # _S = torch.floor(a * S**2)\n",
    "#     _S = a * S**2  # PRE-COMPUTED >> FP\n",
    "#     _q = (q + qb) ** 2 + qc  # >> INT\n",
    "\n",
    "#     return _q, _S  # INT, FP\n",
    "# def i_ERF( q, S):\n",
    "#     a, b, c = -0.2888, -1.769, 1\n",
    "#     a, b, c = torch.tensor(a), torch.tensor(b), torch.tensor(c)\n",
    "\n",
    "#     qb = torch.floor(b / S)\n",
    "#     qc = torch.floor(c/ (a * S ** 2))\n",
    "\n",
    "#     _q = torch.sign(q) * ((torch.min(torch.abs(q), -qb) + qb) ** 2 + qc)\n",
    "\n",
    "#     S_L = a * S**2\n",
    "#     print(\"ddfd\", S_L)\n",
    "#     return _q, S_L\n",
    "\n",
    "# def i_GELU( fp, S):\n",
    "\n",
    "#     q = (fp / S).round()\n",
    "#     q_erf, S_erf = i_ERF(q, S / 1.4142)\n",
    "#     q1 = torch.floor(1 / S_erf)\n",
    "\n",
    "#     _q, _S = q * (q_erf + q1), S * S_erf / 2\n",
    "\n",
    "#     return _q * _S , _S"
   ]
  },
  {
   "cell_type": "code",
   "execution_count": 3,
   "metadata": {},
   "outputs": [],
   "source": [
    "def i_ERF( q, S):\n",
    "    with torch.no_grad():\n",
    "        a, b, c = -0.2888, -1.769, 1\n",
    "        a, b, c = torch.tensor(a), torch.tensor(b), torch.tensor(c)\n",
    "        qb = torch.floor(b / S)  # PRE-COMPUTED >> INT\n",
    "        qc = torch.floor(c / (a * S**2))  # PRE-COMPUTED >> INT\n",
    "\n",
    "    \"\"\"ONLY INT OPERATION\"\"\"\n",
    "    _q = q.sign() * ((torch.min(q.abs(), -qb) + qb).pow(2) + qc)\n",
    "\n",
    "    _S = a * S**2  # PRE-COMPUTED >> FP\n",
    "\n",
    "    return _q, _S\n",
    "\n",
    "def i_GELU( q, S):\n",
    "    with torch.device(q.device):\n",
    "\n",
    "        # input : (INT, PRE-COMPUTED-FP)\n",
    "        q_erf, S_erf = i_ERF(q, S / 1.4142)\n",
    "        # output : (INT, PRE-COMPUTED-FP)\n",
    "\n",
    "        q1 = torch.floor(1 / S_erf)  # floor(1 / PRE-COMPUTED-FP) >> INT\n",
    "\n",
    "        _q = q * (q_erf + q1)  # INT\n",
    "        _S = S * S_erf / 2  # PRE-COMPUTED-FP\n",
    "\n",
    "        return _q, _S\n"
   ]
  },
  {
   "cell_type": "code",
   "execution_count": 4,
   "metadata": {},
   "outputs": [],
   "source": [
    "k = 1.4142\n",
    "coeff = [-0.2888, -1.769, 1] # a(x+b)**2 + c\n",
    "coeff[2] /= coeff[0]\n",
    "\n",
    "def int_erf( x_int, scaling_factor):\n",
    "    with torch.no_grad():\n",
    "        b_int = torch.floor(coeff[1] / scaling_factor)\n",
    "        c_int = torch.floor(coeff[2] / scaling_factor ** 2)\n",
    "\n",
    "    with torch.no_grad():\n",
    "        sign = torch.sign(x_int)\n",
    "    abs_int = torch.abs(x_int)\n",
    "    abs_int = torch.min(abs_int, -b_int)\n",
    "    y_int = (abs_int + b_int) ** 2 + c_int\n",
    "    y_int = sign * y_int\n",
    "    scaling_factor = scaling_factor ** 2 * coeff[0]\n",
    "    print(\"ddfd\", scaling_factor)\n",
    "    \n",
    "    return y_int, scaling_factor\n",
    "\n",
    "\n",
    "def INTGELU(x, scaling_factor=None):\n",
    "    x_int = x / scaling_factor\n",
    "    x_int = x_int.round()\n",
    "    sigmoid_int, sigmoid_scaling_factor = int_erf(x_int, scaling_factor / k)\n",
    "\n",
    "    shift_int = torch.floor(1. / sigmoid_scaling_factor)\n",
    "\n",
    "    x_int = x_int * (sigmoid_int + shift_int)\n",
    "    scaling_factor = scaling_factor * sigmoid_scaling_factor / 2\n",
    "    \n",
    "    return x_int * scaling_factor, scaling_factor"
   ]
  },
  {
   "cell_type": "code",
   "execution_count": 5,
   "metadata": {},
   "outputs": [
    {
     "name": "stdout",
     "output_type": "stream",
     "text": [
      "tensor(-0.1700) tensor(4.4709)\n"
     ]
    },
    {
     "data": {
      "image/png": "[encoded data removed]",
      "text/plain": [
       "<Figure size 640x480 with 1 Axes>"
      ]
     },
     "metadata": {},
     "output_type": "display_data"
    },
    {
     "name": "stdout",
     "output_type": "stream",
     "text": [
      "ddfd tensor(-0.0002)\n"
     ]
    },
    {
     "data": {
      "image/png": "[encoded data removed]",
      "text/plain": [
       "<Figure size 640x480 with 1 Axes>"
      ]
     },
     "metadata": {},
     "output_type": "display_data"
    },
    {
     "name": "stdout",
     "output_type": "stream",
     "text": [
      "tensor(4.0554)\n",
      "tensor(4.0554)\n",
      "tensor(True)\n"
     ]
    }
   ],
   "source": [
    "x_fp = torch.randn((1, 197, 768))\n",
    "\n",
    "# plt.hist(x_fp[0, 0, :].cpu().numpy(), bins=100)\n",
    "# plt.show()\n",
    "gelu = nn.GELU()\n",
    "\n",
    "org_gelu_output = gelu(x_fp)\n",
    "# plt.hist(org_gelu_output[0, 0, :].cpu().numpy(), bins=100)\n",
    "# plt.show()\n",
    "\n",
    "print(org_gelu_output.min(), org_gelu_output.max())\n",
    "\n",
    "\n",
    "scaler = x_fp.abs().max() / 127\n",
    "\n",
    "myint_gelu_output, _ = i_GELU((x_fp / scaler).round(), scaler)\n",
    "myint_gelu_output *= _\n",
    "plt.hist(myint_gelu_output[0, 0, :].cpu().numpy(), bins=100)\n",
    "plt.show()\n",
    "\n",
    "int_gelu_output, _ = INTGELU(x_fp, scaler)\n",
    "plt.hist(int_gelu_output[0, 0, :].cpu().numpy(), bins=100)\n",
    "plt.show()\n",
    "\n",
    "print(torch.norm(org_gelu_output - myint_gelu_output))\n",
    "print(torch.norm(org_gelu_output - int_gelu_output))\n",
    "print(torch.eq(myint_gelu_output, int_gelu_output).all())"
   ]
  },
  {
   "cell_type": "code",
   "execution_count": null,
   "metadata": {},
   "outputs": [],
   "source": []
  },
  {
   "cell_type": "code",
   "execution_count": null,
   "metadata": {},
   "outputs": [],
   "source": []
  }
 ],
 "metadata": {
  "kernelspec": {
   "display_name": "py312",
   "language": "python",
   "name": "python3"
  },
  "language_info": {
   "codemirror_mode": {
    "name": "ipython",
    "version": 3
   },
   "file_extension": ".py",
   "mimetype": "text/x-python",
   "name": "python",
   "nbconvert_exporter": "python",
   "pygments_lexer": "ipython3",
   "version": "3.12.1"
  }
 },
 "nbformat": 4,
 "nbformat_minor": 2
}
