{
 "cells": [
  {
   "cell_type": "markdown",
   "metadata": {},
   "source": [
    "# Asymmetric"
   ]
  },
  {
   "cell_type": "code",
   "execution_count": 108,
   "metadata": {},
   "outputs": [
    {
     "name": "stdout",
     "output_type": "stream",
     "text": [
      "W_fp min: -3.900031566619873, max: 4.793203830718994\n",
      "A_fp min: 0.7068524360656738, max: 9.57330322265625\n"
     ]
    }
   ],
   "source": [
    "import torch\n",
    "import matplotlib.pyplot as plt\n",
    "\n",
    "m = 197\n",
    "n = 768\n",
    "k = 197\n",
    "\n",
    "W_fp = torch.randn(m, n)\n",
    "X_fp = torch.randn(n, k) + 5\n",
    "print(f\"W_fp min: {W_fp.min()}, max: {W_fp.max()}\")\n",
    "print(f\"A_fp min: {X_fp.min()}, max: {X_fp.max()}\")\n",
    "y_fp = W_fp @ X_fp\n",
    "bits = 4"
   ]
  },
  {
   "cell_type": "code",
   "execution_count": 109,
   "metadata": {},
   "outputs": [
    {
     "name": "stdout",
     "output_type": "stream",
     "text": [
      "W min: -7.0, max: 7.0\n",
      "A min: -7.0, max: 7.0\n",
      "zp_w min: 0.0, max: 0.0\n",
      "zp_a min: -8.0, max: -8.0\n",
      "torch.Size([197, 197])\n",
      "torch.Size([197, 197])\n",
      "torch.Size([197, 197])\n",
      "torch.Size([197, 197])\n",
      "tensor(0.)\n",
      "org min:  tensor(-481.6528) max:  tensor(473.4311)\n",
      "longversion min:  tensor(-481.6528) max:  tensor(473.4311)\n",
      "tensor(4468.8955)\n",
      "tensor(4468.8955)\n",
      "tensor(4468.8955)\n",
      "tensor(0.0064)\n"
     ]
    },
    {
     "data": {
      "image/png": "[encoded data removed]",
      "text/plain": [
       "<Figure size 640x480 with 3 Axes>"
      ]
     },
     "metadata": {},
     "output_type": "display_data"
    }
   ],
   "source": [
    "s_w = (W_fp.max() - W_fp.min()) / (2**bits -1)\n",
    "s_x = (X_fp.max() - X_fp.min()) / (2**bits -1)\n",
    "zp_w = -(W_fp.min() / s_w).round() - (2**(bits-1) -1)\n",
    "zp_x = -(X_fp.min() / s_x).round() - (2**(bits-1) -1)\n",
    "\n",
    "W = (W_fp / s_w + zp_w).round().clamp(-2**(bits-1), 2**(bits-1)-1)\n",
    "X = (X_fp / s_x + zp_x).round().clamp(-2**(bits-1), 2**(bits-1)-1)\n",
    "zp_w = torch.ones_like(W) * zp_w\n",
    "zp_x = torch.ones_like(X) * zp_x\n",
    "\n",
    "\n",
    "print(f\"W min: {W.min()}, max: {W.max()}\")\n",
    "print(f\"A min: {X.min()}, max: {X.max()}\")\n",
    "print(f\"zp_w min: {zp_w.min()}, max: {zp_w.max()}\")\n",
    "print(f\"zp_a min: {zp_x.min()}, max: {zp_x.max()}\")\n",
    "\n",
    "org = ((W - zp_w) @ (X - zp_x)) * s_w * s_x\n",
    "print((W @ X).shape)\n",
    "print((W @ zp_x).shape)\n",
    "print((zp_w @ X).shape)\n",
    "print((zp_w @ zp_x).shape)\n",
    "longversion = (W @ X - W @ zp_x - zp_w @ X + zp_w @ zp_x) * s_w * s_x\n",
    "\n",
    "print(torch.norm(org - longversion))\n",
    "\n",
    "print(\"org min: \", org.min(), \"max: \", org.max())\n",
    "print(\"longversion min: \", longversion.min(), \"max: \", longversion.max())\n",
    "print(torch.norm(y_fp - org))\n",
    "print(torch.norm(y_fp - longversion))\n",
    "\n",
    "W_hat = (W-zp_w) * s_w\n",
    "X_hat = (X-zp_x) * s_x\n",
    "y_hat = W_hat @ X_hat\n",
    "print(torch.norm(y_fp - y_hat))\n",
    "\n",
    "print(torch.norm(y_hat - longversion))\n",
    "fig, ax = plt.subplots(1, 3)\n",
    "ax[0].hist(org.flatten().numpy(), bins=100)\n",
    "ax[1].hist(longversion.flatten().numpy(), bins=100)\n",
    "ax[2].hist(y_fp.flatten().numpy(), bins=100)\n",
    "plt.show()"
   ]
  },
  {
   "cell_type": "markdown",
   "metadata": {},
   "source": [
    "# Symmetric"
   ]
  },
  {
   "cell_type": "code",
   "execution_count": 110,
   "metadata": {},
   "outputs": [
    {
     "name": "stdout",
     "output_type": "stream",
     "text": [
      "W min: -6.0, max: 7.0\n",
      "A min: 1.0, max: 7.0\n",
      "zp_w min: 0.0, max: 0.0\n",
      "zp_a min: 0.0, max: 0.0\n",
      "torch.Size([197, 197])\n",
      "torch.Size([197, 197])\n",
      "torch.Size([197, 197])\n",
      "torch.Size([197, 197])\n",
      "tensor(0.)\n",
      "org min:  tensor(-466.6177) max:  tensor(488.6433)\n",
      "longversion min:  tensor(-466.6177) max:  tensor(488.6433)\n",
      "tensor(5593.3452)\n",
      "tensor(5593.3452)\n",
      "tensor(5593.3452)\n",
      "tensor(0.0050)\n"
     ]
    },
    {
     "data": {
      "image/png": "[encoded data removed]",
      "text/plain": [
       "<Figure size 640x480 with 3 Axes>"
      ]
     },
     "metadata": {},
     "output_type": "display_data"
    }
   ],
   "source": [
    "s_w = 2*(W_fp.max()) / (2**bits - 1)\n",
    "s_x = 2*(X_fp.max()) / (2**bits - 1)\n",
    "zp_w = 0 # -(W_fp.min() / s_w).round() - (2 ** (bits - 1) - 1)\n",
    "zp_x = 0 # -(X_fp.min() / s_x).round() - (2 ** (bits - 1) - 1)\n",
    "\n",
    "W = (W_fp / s_w + zp_w).round().clamp(-(2 ** (bits - 1)), 2 ** (bits - 1) - 1)\n",
    "X = (X_fp / s_x + zp_x).round().clamp(-(2 ** (bits - 1)), 2 ** (bits - 1) - 1)\n",
    "zp_w = torch.ones_like(W) * zp_w\n",
    "zp_x = torch.ones_like(X) * zp_x\n",
    "\n",
    "\n",
    "print(f\"W min: {W.min()}, max: {W.max()}\")\n",
    "print(f\"A min: {X.min()}, max: {X.max()}\")\n",
    "print(f\"zp_w min: {zp_w.min()}, max: {zp_w.max()}\")\n",
    "print(f\"zp_a min: {zp_x.min()}, max: {zp_x.max()}\")\n",
    "\n",
    "org = ((W - zp_w) @ (X - zp_x)) * s_w * s_x\n",
    "print((W @ X).shape)\n",
    "print((W @ zp_x).shape)\n",
    "print((zp_w @ X).shape)\n",
    "print((zp_w @ zp_x).shape)\n",
    "longversion = (W @ X - W @ zp_x - zp_w @ X + zp_w @ zp_x) * s_w * s_x\n",
    "\n",
    "print(torch.norm(org - longversion))\n",
    "\n",
    "print(\"org min: \", org.min(), \"max: \", org.max())\n",
    "print(\"longversion min: \", longversion.min(), \"max: \", longversion.max())\n",
    "print(torch.norm(y_fp - org))\n",
    "print(torch.norm(y_fp - longversion))\n",
    "\n",
    "W_hat = (W - zp_w) * s_w\n",
    "X_hat = (X - zp_x) * s_x\n",
    "y_hat = W_hat @ X_hat\n",
    "print(torch.norm(y_fp - y_hat))\n",
    "\n",
    "print(torch.norm(y_hat - longversion))\n",
    "fig, ax = plt.subplots(1, 3)\n",
    "ax[0].hist(org.flatten().numpy(), bins=100)\n",
    "ax[1].hist(longversion.flatten().numpy(), bins=100)\n",
    "ax[2].hist(y_fp.flatten().numpy(), bins=100)\n",
    "plt.show()"
   ]
  },
  {
   "cell_type": "code",
   "execution_count": null,
   "metadata": {},
   "outputs": [],
   "source": []
  },
  {
   "cell_type": "code",
   "execution_count": null,
   "metadata": {},
   "outputs": [],
   "source": []
  }
 ],
 "metadata": {
  "kernelspec": {
   "display_name": "py312",
   "language": "python",
   "name": "python3"
  },
  "language_info": {
   "codemirror_mode": {
    "name": "ipython",
    "version": 3
   },
   "file_extension": ".py",
   "mimetype": "text/x-python",
   "name": "python",
   "nbconvert_exporter": "python",
   "pygments_lexer": "ipython3",
   "version": "3.12.1"
  }
 },
 "nbformat": 4,
 "nbformat_minor": 2
}
