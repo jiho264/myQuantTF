{
 "cells": [
  {
   "cell_type": "code",
   "execution_count": 3,
   "metadata": {},
   "outputs": [
    {
     "name": "stdout",
     "output_type": "stream",
     "text": [
      "tensor([ 0.,  1.,  2.,  3.,  4.,  5.,  6.,  7.,  8.,  9., 10., 11., 12., 13.,\n",
      "        14., 15.])\n",
      "tensor([ 0.,  1.,  2.,  3.,  4.,  5.,  6.,  7.,  8.,  9., 10., 11., 12., 13.,\n",
      "        14., 15.])\n"
     ]
    }
   ],
   "source": [
    "import torch, math\n",
    "\n",
    "def delta_a(x, offset, magnitute=0):\n",
    "    if type(x) is not torch.Tensor:\n",
    "        x = torch.tensor(x)\n",
    "    if type(offset) is not torch.Tensor:\n",
    "        offset = torch.tensor(offset)\n",
    "\n",
    "    pi = torch.tensor(math.pi)\n",
    "\n",
    "    a = torch.tensor(1/10.0)\n",
    "    \n",
    "    # return (1/ ( a.abs() * pi.sqrt())) * torch.exp(-((x / a) ** 2))\n",
    "    dja = ((1 / (a.abs() * pi.sqrt())) * torch.exp(-(((x - offset) / a) ** 2))).round()\n",
    "    dja = dja / 6 * magnitute\n",
    "    return dja\n",
    "\n",
    "\n",
    "input = torch.tensor([0, 1.0, 2.0, 3.0, 4, 5, 6, 7, 8, 9, 10, 11, 12, 13, 14, 15])\n",
    "\n",
    "print(input)\n",
    "\n",
    "magnitude = torch.tensor(\n",
    "    [0, 1, 2, 3, 4, 5, 6, 7, 8, 9, 10, 11, 12, 13, 14, 15]\n",
    ")\n",
    "\n",
    "def func(x, magnitude):\n",
    "    if type(x) is not torch.Tensor:\n",
    "        x = torch.tensor(x)\n",
    "    if type(magnitude) is not torch.Tensor:\n",
    "        magnitude = torch.tensor(magnitude)\n",
    "    \n",
    "    x.round_().clip_(0, 15)\n",
    "    \n",
    "    return (\n",
    "        delta_a(x, 0,  magnitude[0]) +\n",
    "        delta_a(x, 1,  magnitude[1]) +\n",
    "        delta_a(x, 2,  magnitude[2]) +\n",
    "        delta_a(x, 3,  magnitude[3]) +\n",
    "        delta_a(x, 4,  magnitude[4]) +\n",
    "        delta_a(x, 5,  magnitude[5]) +\n",
    "        delta_a(x, 6,  magnitude[6]) +\n",
    "        delta_a(x, 7,  magnitude[7]) +\n",
    "        delta_a(x, 8,  magnitude[8]) +\n",
    "        delta_a(x, 9,  magnitude[9]) +\n",
    "        delta_a(x, 10, magnitude[10]) +\n",
    "        delta_a(x, 11, magnitude[11]) +\n",
    "        delta_a(x, 12, magnitude[12]) +\n",
    "        delta_a(x, 13, magnitude[13]) +\n",
    "        delta_a(x, 14, magnitude[14]) +\n",
    "        delta_a(x, 15, magnitude[15]) \n",
    "    )\n",
    "\n",
    "\n",
    "print(func(input, magnitude))"
   ]
  },
  {
   "cell_type": "code",
   "execution_count": 4,
   "metadata": {},
   "outputs": [
    {
     "name": "stdout",
     "output_type": "stream",
     "text": [
      "tensor([1.0000, 0.7071, 0.5000, 0.3536, 0.2500, 0.1768, 0.1250, 0.0884, 0.0625,\n",
      "        0.0442, 0.0313, 0.0221, 0.0156, 0.0110, 0.0078, 0.0055])\n"
     ]
    }
   ],
   "source": [
    "qq = torch.tensor([0, 1, 2, 3, 4, 5, 6, 7, 8, 9, 10, 11, 12, 13, 14, 15], dtype=torch.float32)\n",
    "\n",
    "dja = math.sqrt(2)**-qq \n",
    "\n",
    "\n",
    "print(dja)"
   ]
  },
  {
   "cell_type": "code",
   "execution_count": 5,
   "metadata": {},
   "outputs": [],
   "source": [
    "# def _dirac_delta(self, x, offset, magnitute):\n",
    "\n",
    "#     return torch.where(x == offset, magnitute, torch.tensor(0.0))\n",
    "#     # pi = torch.tensor(math.pi)\n",
    "#     # a = torch.tensor(1 / 10.0)\n",
    "\n",
    "#     # dja = (\n",
    "#     #     (1 / (a.abs() * pi.sqrt())) * torch.exp(-(((x - offset) / a) ** 2))\n",
    "#     # ).round()\n",
    "#     # dja = dja / 6 * magnitute\n",
    "#     # return dja\n",
    "\n",
    "# def _f_map(self, x_q):\n",
    "#     assert 0 <= x_q.min() and x_q.max() <= self.n_levels, f\"{x_q.unique()}\"\n",
    "\n",
    "#     _f_y = torch.zeros_like(x_q)\n",
    "#     mag = round_ste.apply(self.magnitude.clamp(0, 255))\n",
    "#     for i in range(self.n_levels):\n",
    "#         dja = self._dirac_delta(x_q, i, mag[i])\n",
    "#         # print(dja.requires_grad)\n",
    "#         _f_y = _f_y + round_ste.apply(dja)\n",
    "#     return _f_y"
   ]
  },
  {
   "cell_type": "code",
   "execution_count": 6,
   "metadata": {},
   "outputs": [
    {
     "name": "stdout",
     "output_type": "stream",
     "text": [
      "6\n",
      "7\n",
      "7\n"
     ]
    }
   ],
   "source": [
    "import math\n",
    "\n",
    "# Given number\n",
    "# num = 65535\n",
    "\n",
    "def int_log(num):\n",
    "    # Initialize the logarithm result\n",
    "    log2_approx = 0\n",
    "\n",
    "    # Shift right until the number becomes 1\n",
    "    while num > 1:\n",
    "        num >>= 1  # Right shift by 1 bit (equivalent to dividing by 2)\n",
    "        log2_approx += 1\n",
    "    return log2_approx\n",
    "\n",
    "print(int_log(127))\n",
    "print(int_log(128))\n",
    "print(int_log(129))"
   ]
  },
  {
   "cell_type": "code",
   "execution_count": 7,
   "metadata": {},
   "outputs": [
    {
     "data": {
      "text/plain": [
       "-15"
      ]
     },
     "execution_count": 7,
     "metadata": {},
     "output_type": "execute_result"
    }
   ],
   "source": [
    "-int_log(64464)"
   ]
  },
  {
   "cell_type": "code",
   "execution_count": 8,
   "metadata": {},
   "outputs": [
    {
     "name": "stdout",
     "output_type": "stream",
     "text": [
      "tensor([    0,     1,     2,  ..., 65533, 65534, 65535], dtype=torch.int32)\n",
      "65535\n",
      "17\n"
     ]
    }
   ],
   "source": [
    "import torch\n",
    "x = torch.linspace(0, 65535, 65536, dtype=torch.int32)\n",
    "\n",
    "\n",
    "print(x)\n",
    "print(x.log2().clamp(0, 20).unique().numel())\n",
    "print(x.log2().round().clamp(0, 20).unique().numel())"
   ]
  },
  {
   "cell_type": "code",
   "execution_count": 9,
   "metadata": {},
   "outputs": [
    {
     "name": "stdout",
     "output_type": "stream",
     "text": [
      "tensor([     inf, 1048576.,  983040.,  ...,       0.,       0.,       0.])\n",
      "18 tensor([      0.,   65536.,  131072.,  196608.,  262144.,  327680.,  393216.,\n",
      "         458752.,  524288.,  589824.,  655360.,  720896.,  786432.,  851968.,\n",
      "         917504.,  983040., 1048576.,      inf])\n",
      "tensor([inf, 16., 15.,  ...,  0.,  0.,  0.])\n",
      "18 tensor([ 0.,  1.,  2.,  3.,  4.,  5.,  6.,  7.,  8.,  9., 10., 11., 12., 13.,\n",
      "        14., 15., 16., inf])\n"
     ]
    }
   ],
   "source": [
    "dja = -x.log2().round()*2**16+2**20\n",
    "print(dja)\n",
    "print(dja.unique().numel(), dja.unique())\n",
    "wns = (dja / 2**16).round()\n",
    "print(wns)\n",
    "\n",
    "\n",
    "\n",
    "print(wns.unique().numel(), wns.unique())\n"
   ]
  },
  {
   "cell_type": "code",
   "execution_count": 10,
   "metadata": {},
   "outputs": [
    {
     "data": {
      "text/plain": [
       "tensor([       inf, 6.5536e+04, 3.2768e+04,  ..., 1.0000e+00, 1.0000e+00,\n",
       "        1.0000e+00])"
      ]
     },
     "execution_count": 10,
     "metadata": {},
     "output_type": "execute_result"
    }
   ],
   "source": [
    "2**wns"
   ]
  },
  {
   "cell_type": "code",
   "execution_count": 11,
   "metadata": {},
   "outputs": [
    {
     "name": "stdout",
     "output_type": "stream",
     "text": [
      "tensor([    0.0000,    65.5360,   327.6800,   655.3600,  1310.7200,  1966.0800,\n",
      "         2621.4399,  3276.8000,  6553.6001, 13107.2002, 32768.0000, 65536.0000])\n"
     ]
    }
   ],
   "source": [
    "dja = torch.tensor([0.0,0.001,0.005,0.01,0.02,0.03,0.04,0.05,0.1,0.2,0.5,1.0]) * 2**16\n",
    "\n",
    "print(dja)"
   ]
  },
  {
   "cell_type": "code",
   "execution_count": null,
   "metadata": {},
   "outputs": [],
   "source": []
  }
 ],
 "metadata": {
  "kernelspec": {
   "display_name": "py312",
   "language": "python",
   "name": "python3"
  },
  "language_info": {
   "codemirror_mode": {
    "name": "ipython",
    "version": 3
   },
   "file_extension": ".py",
   "mimetype": "text/x-python",
   "name": "python",
   "nbconvert_exporter": "python",
   "pygments_lexer": "ipython3",
   "version": "3.12.1"
  }
 },
 "nbformat": 4,
 "nbformat_minor": 2
}
