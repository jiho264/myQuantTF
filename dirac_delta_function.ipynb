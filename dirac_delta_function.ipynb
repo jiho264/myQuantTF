{
 "cells": [
  {
   "cell_type": "code",
   "execution_count": 46,
   "metadata": {},
   "outputs": [
    {
     "name": "stdout",
     "output_type": "stream",
     "text": [
      "tensor([ 0.,  1.,  2.,  3.,  4.,  5.,  6.,  7.,  8.,  9., 10., 11., 12., 13.,\n",
      "        14., 15.])\n",
      "tensor([ 0.,  1.,  2.,  3.,  4.,  5.,  6.,  7.,  8.,  9., 10., 11., 12., 13.,\n",
      "        14., 15.])\n"
     ]
    }
   ],
   "source": [
    "import torch, math\n",
    "\n",
    "def delta_a(x, offset, magnitute=0):\n",
    "    if type(x) is not torch.Tensor:\n",
    "        x = torch.tensor(x)\n",
    "    if type(offset) is not torch.Tensor:\n",
    "        offset = torch.tensor(offset)\n",
    "\n",
    "    pi = torch.tensor(math.pi)\n",
    "\n",
    "    a = torch.tensor(1/10.0)\n",
    "    \n",
    "    # return (1/ ( a.abs() * pi.sqrt())) * torch.exp(-((x / a) ** 2))\n",
    "    dja = ((1 / (a.abs() * pi.sqrt())) * torch.exp(-(((x - offset) / a) ** 2))).round()\n",
    "    dja = dja / 6 * magnitute\n",
    "    return dja\n",
    "\n",
    "\n",
    "input = torch.tensor([0, 1.0, 2.0, 3.0, 4, 5, 6, 7, 8, 9, 10, 11, 12, 13, 14, 15])\n",
    "\n",
    "print(input)\n",
    "\n",
    "magnitude = torch.tensor(\n",
    "    [0, 1, 2, 3, 4, 5, 6, 7, 8, 9, 10, 11, 12, 13, 14, 15]\n",
    ")\n",
    "\n",
    "def func(x, magnitude):\n",
    "    if type(x) is not torch.Tensor:\n",
    "        x = torch.tensor(x)\n",
    "    if type(magnitude) is not torch.Tensor:\n",
    "        magnitude = torch.tensor(magnitude)\n",
    "    \n",
    "    x.round_().clip_(0, 15)\n",
    "    \n",
    "    return (\n",
    "        delta_a(x, 0,  magnitude[0]) +\n",
    "        delta_a(x, 1,  magnitude[1]) +\n",
    "        delta_a(x, 2,  magnitude[2]) +\n",
    "        delta_a(x, 3,  magnitude[3]) +\n",
    "        delta_a(x, 4,  magnitude[4]) +\n",
    "        delta_a(x, 5,  magnitude[5]) +\n",
    "        delta_a(x, 6,  magnitude[6]) +\n",
    "        delta_a(x, 7,  magnitude[7]) +\n",
    "        delta_a(x, 8,  magnitude[8]) +\n",
    "        delta_a(x, 9,  magnitude[9]) +\n",
    "        delta_a(x, 10, magnitude[10]) +\n",
    "        delta_a(x, 11, magnitude[11]) +\n",
    "        delta_a(x, 12, magnitude[12]) +\n",
    "        delta_a(x, 13, magnitude[13]) +\n",
    "        delta_a(x, 14, magnitude[14]) +\n",
    "        delta_a(x, 15, magnitude[15]) \n",
    "    )\n",
    "\n",
    "\n",
    "print(func(input, magnitude))"
   ]
  },
  {
   "cell_type": "code",
   "execution_count": 47,
   "metadata": {},
   "outputs": [
    {
     "name": "stdout",
     "output_type": "stream",
     "text": [
      "tensor([1.0000, 0.7071, 0.5000, 0.3536, 0.2500, 0.1768, 0.1250, 0.0884, 0.0625,\n",
      "        0.0442, 0.0313, 0.0221, 0.0156, 0.0110, 0.0078, 0.0055])\n"
     ]
    }
   ],
   "source": [
    "qq = torch.tensor([0, 1, 2, 3, 4, 5, 6, 7, 8, 9, 10, 11, 12, 13, 14, 15], dtype=torch.float32)\n",
    "\n",
    "dja = math.sqrt(2)**-qq \n",
    "\n",
    "\n",
    "print(dja)"
   ]
  },
  {
   "cell_type": "code",
   "execution_count": 48,
   "metadata": {},
   "outputs": [],
   "source": [
    "# def _dirac_delta(self, x, offset, magnitute):\n",
    "\n",
    "#     return torch.where(x == offset, magnitute, torch.tensor(0.0))\n",
    "#     # pi = torch.tensor(math.pi)\n",
    "#     # a = torch.tensor(1 / 10.0)\n",
    "\n",
    "#     # dja = (\n",
    "#     #     (1 / (a.abs() * pi.sqrt())) * torch.exp(-(((x - offset) / a) ** 2))\n",
    "#     # ).round()\n",
    "#     # dja = dja / 6 * magnitute\n",
    "#     # return dja\n",
    "\n",
    "# def _f_map(self, x_q):\n",
    "#     assert 0 <= x_q.min() and x_q.max() <= self.n_levels, f\"{x_q.unique()}\"\n",
    "\n",
    "#     _f_y = torch.zeros_like(x_q)\n",
    "#     mag = round_ste.apply(self.magnitude.clamp(0, 255))\n",
    "#     for i in range(self.n_levels):\n",
    "#         dja = self._dirac_delta(x_q, i, mag[i])\n",
    "#         # print(dja.requires_grad)\n",
    "#         _f_y = _f_y + round_ste.apply(dja)\n",
    "#     return _f_y"
   ]
  },
  {
   "cell_type": "code",
   "execution_count": 49,
   "metadata": {},
   "outputs": [
    {
     "name": "stdout",
     "output_type": "stream",
     "text": [
      "6\n",
      "7\n",
      "7\n"
     ]
    }
   ],
   "source": [
    "import math\n",
    "\n",
    "# Given number\n",
    "# num = 65535\n",
    "\n",
    "def int_log(num):\n",
    "    # Initialize the logarithm result\n",
    "    log2_approx = 0\n",
    "\n",
    "    # Shift right until the number becomes 1\n",
    "    while num > 1:\n",
    "        num >>= 1  # Right shift by 1 bit (equivalent to dividing by 2)\n",
    "        log2_approx += 1\n",
    "    return log2_approx\n",
    "\n",
    "print(int_log(127))\n",
    "print(int_log(128))\n",
    "print(int_log(129))"
   ]
  },
  {
   "cell_type": "code",
   "execution_count": 50,
   "metadata": {},
   "outputs": [
    {
     "data": {
      "text/plain": [
       "-15"
      ]
     },
     "execution_count": 50,
     "metadata": {},
     "output_type": "execute_result"
    }
   ],
   "source": [
    "-int_log(64464)"
   ]
  },
  {
   "cell_type": "code",
   "execution_count": 51,
   "metadata": {},
   "outputs": [
    {
     "name": "stdout",
     "output_type": "stream",
     "text": [
      "tensor([    0,     1,     2,  ..., 65533, 65534, 65535], dtype=torch.int32)\n",
      "65535\n",
      "17\n"
     ]
    }
   ],
   "source": [
    "import torch\n",
    "x = torch.linspace(0, 65535, 65536, dtype=torch.int32)\n",
    "\n",
    "\n",
    "print(x)\n",
    "print(x.log2().clamp(0, 20).unique().numel())\n",
    "print(x.log2().round().clamp(0, 20).unique().numel())"
   ]
  },
  {
   "cell_type": "code",
   "execution_count": 52,
   "metadata": {},
   "outputs": [
    {
     "name": "stdout",
     "output_type": "stream",
     "text": [
      "tensor([     inf, 1048576.,  983040.,  ...,       0.,       0.,       0.])\n",
      "18 tensor([      0.,   65536.,  131072.,  196608.,  262144.,  327680.,  393216.,\n",
      "         458752.,  524288.,  589824.,  655360.,  720896.,  786432.,  851968.,\n",
      "         917504.,  983040., 1048576.,      inf])\n",
      "tensor([inf, 16., 15.,  ...,  0.,  0.,  0.])\n",
      "18 tensor([ 0.,  1.,  2.,  3.,  4.,  5.,  6.,  7.,  8.,  9., 10., 11., 12., 13.,\n",
      "        14., 15., 16., inf])\n"
     ]
    }
   ],
   "source": [
    "dja = -x.log2().round()*2**16+2**20\n",
    "print(dja)\n",
    "print(dja.unique().numel(), dja.unique())\n",
    "wns = (dja / 2**16).round()\n",
    "print(wns)\n",
    "\n",
    "\n",
    "\n",
    "print(wns.unique().numel(), wns.unique())\n"
   ]
  },
  {
   "cell_type": "code",
   "execution_count": 53,
   "metadata": {},
   "outputs": [
    {
     "data": {
      "text/plain": [
       "tensor([       inf, 6.5536e+04, 3.2768e+04,  ..., 1.0000e+00, 1.0000e+00,\n",
       "        1.0000e+00])"
      ]
     },
     "execution_count": 53,
     "metadata": {},
     "output_type": "execute_result"
    }
   ],
   "source": [
    "2**wns"
   ]
  },
  {
   "cell_type": "code",
   "execution_count": 54,
   "metadata": {},
   "outputs": [
    {
     "name": "stdout",
     "output_type": "stream",
     "text": [
      "tensor([    0.0000,    65.5360,   327.6800,   655.3600,  1310.7200,  1966.0800,\n",
      "         2621.4399,  3276.8000,  6553.6001, 13107.2002, 32768.0000, 65536.0000])\n"
     ]
    }
   ],
   "source": [
    "dja = torch.tensor([0.0,0.001,0.005,0.01,0.02,0.03,0.04,0.05,0.1,0.2,0.5,1.0]) * 2**16\n",
    "\n",
    "print(dja)"
   ]
  },
  {
   "cell_type": "code",
   "execution_count": 111,
   "metadata": {},
   "outputs": [
    {
     "name": "stdout",
     "output_type": "stream",
     "text": [
      "0.1700700044631958\n",
      "tensor([  0,  10,  15,  20,  25,  30,  35,  40,  45,  50,  55,  60,  65,  70,\n",
      "         75,  80,  85,  90,  95, 100, 105, 110, 115, 120, 125, 130, 135, 140,\n",
      "        145, 150, 155], dtype=torch.int32) 31\n",
      "0.009419822692871093\n",
      "tensor([ 0.0000,  1.0000,  1.5000,  2.0000,  2.5000,  3.0000,  3.5000,  4.0000,\n",
      "         4.5000,  5.0000,  5.5000,  6.0000,  6.5000,  7.0000,  7.5000,  8.0000,\n",
      "         8.5000,  9.0000,  9.5000, 10.0000, 10.5000, 11.0000, 11.5000, 12.0000,\n",
      "        12.5000, 13.0000, 13.5000, 14.0000, 14.5000, 15.0000, 15.5000]) 31\n"
     ]
    }
   ],
   "source": [
    "import torch\n",
    "\n",
    "\n",
    "def bits_required(x_int):\n",
    "    # 절대값을 취하고 이진수 변환 후, 부호 비트 포함해서 비트 수 계산\n",
    "    _ones = torch.zeros_like(x_int)\n",
    "    \n",
    "    out = torch.where(x_int == 0, _ones, x_int)\n",
    "    \n",
    "    return (\n",
    "        len(bin(abs(x_int))) - 2 + 1\n",
    "    )  # bin()은 '0b'로 시작하기 때문에 -2, 부호 비트 포함\n",
    "\n",
    "\n",
    "def log2_fixed_point(x):\n",
    "    # UINT16 입력값을 정수형으로 변환\n",
    "    x = x.to(torch.int32)\n",
    "\n",
    "    # x가 0인 경우를 처리하기 위해 결과를 미리 -1로 초기화합니다.\n",
    "    log2_int = torch.full_like(x, -1, dtype=torch.int32)\n",
    "    # dja = bits_required(x)\n",
    "    # print(dja)\n",
    "    # 1. log2의 정수 부분 계산\n",
    "    temp_x = x.clone()\n",
    "    for i in range(15, -1, -1):\n",
    "        shift = 1 << i\n",
    "        greater_equal = temp_x >= shift\n",
    "        log2_int += greater_equal.to(torch.int32)\n",
    "        temp_x = temp_x >> greater_equal.to(torch.int32)\n",
    "    # print(log2_int)\n",
    "    # 2. 소수점 아래 한 자리 계산 (0.1, 0.2, ..., 0.9를 정수로 근사)\n",
    "    # 0.1 ~ 0.9에 해당하는 상수 값을 정수로 표현\n",
    "    fractional_add = torch.zeros_like(x, dtype=torch.int32)\n",
    "\n",
    "    # 0.5 추가 (0.1 * 5)\n",
    "    temp_x = x - (1 << log2_int)\n",
    "    temp_x = temp_x << 1  # temp_x *= 2\n",
    "    fractional_add += (temp_x >= (1 << log2_int)).to(torch.int32) * 5\n",
    "\n",
    "    # # 0.2 추가 (0.1 * 2)\n",
    "    # temp_x = x - (1 << log2_int) - (fractional_add >> 1)\n",
    "    # temp_x = temp_x << 2  # temp_x *= 4\n",
    "    # fractional_add += (temp_x >= (1 << log2_int)).to(torch.int32) * 2\n",
    "\n",
    "    # # 0.1 추가\n",
    "    # temp_x = x - (1 << log2_int) - ((fractional_add * 3) >> 2)\n",
    "    # temp_x = temp_x << 3  # temp_x *= 8\n",
    "    # fractional_add += (temp_x >= (1 << log2_int)).to(torch.int32) * 1\n",
    "\n",
    "    # 최종 log2 값은 정수 부분과 fractional_add를 합친 것입니다.\n",
    "    return log2_int * 10 + fractional_add\n",
    "\n",
    "\n",
    "# 예시 UINT16 입력값\n",
    "# x = torch.tensor([1, 2, 4, 8, 16, 32, 65535], dtype=torch.int32)\n",
    "\n",
    "# # log2 값을 소수점 아래 1자리까지 계산\n",
    "# log2_values = log2_fixed_point(x)\n",
    "\n",
    "# # 결과 출력 (소수점 아래 1자리까지 표현된 결과)\n",
    "# print(\n",
    "#     log2_values\n",
    "# )  # 예시 출력: 0, 10, 20, 30, 40, 50, 1590 (각각 0.0, 1.0, 2.0, ...를 의미)\n",
    "\n",
    "\n",
    "dja = torch.randint(1, 65535, (12, 12, 197, 197), dtype=torch.int32)\n",
    "# dja = log2_fixed_point(dja)\n",
    "# print(dja.unique())\n",
    "\n",
    "count = 10\n",
    "import time\n",
    "start = time.time()\n",
    "for _ in range(count):\n",
    "    dd = log2_fixed_point(dja)\n",
    "print((time.time()-start)/count)\n",
    "print(dd.unique(), dd.unique().numel())\n",
    "\n",
    "start = time.time()\n",
    "for _ in range(count):\n",
    "    dd = (dja.log2()*2).floor()/2\n",
    "\n",
    "print((time.time()-start)/count)\n",
    "print(dd.unique(), dd.unique().numel())"
   ]
  },
  {
   "cell_type": "code",
   "execution_count": 115,
   "metadata": {},
   "outputs": [
    {
     "name": "stdout",
     "output_type": "stream",
     "text": [
      "Original Vector:  tensor([22795, 33580, 31684, 19488, 52828,   529, 47507,  5399, 38164, 55405,\n",
      "        25918, 24116, 30144, 65166, 21876, 37292], dtype=torch.int32)\n",
      "Scaled Vector:  tensor([0.3478, 0.5124, 0.4835, 0.2974, 0.8061, 0.0081, 0.7249, 0.0824, 0.5823,\n",
      "        0.8454, 0.3955, 0.3680, 0.4600, 0.9944, 0.3338, 0.5690])\n",
      "Equalized Vector:  tensor([ 80, 159, 128,  48, 207,  16, 191,  32, 191, 223, 112,  96, 112, 255,\n",
      "         64, 159])\n",
      "tensor(17137.7207)\n"
     ]
    }
   ],
   "source": [
    "import torch\n",
    "import numpy as np\n",
    "\n",
    "\n",
    "def histogram_equalization(x):\n",
    "    # 1. 데이터 정규화 (0에서 1 사이로)\n",
    "    x = x.float()\n",
    "    x = x / x.max()\n",
    "\n",
    "    # 2. 히스토그램 계산\n",
    "    hist = torch.histc(x, bins=256, min=0.0, max=1.0)\n",
    "\n",
    "    # 3. 누적 분포 함수 (CDF) 계산\n",
    "    cdf = torch.cumsum(hist, dim=0)\n",
    "    cdf = cdf / cdf[-1]  # 정규화\n",
    "\n",
    "    # 4. 평활화된 값으로 매핑\n",
    "    x_eq = cdf[(x * 255).long()]\n",
    "\n",
    "    # 5. 스케일링 및 반올림\n",
    "    x_eq = (x_eq * 255).round().long()\n",
    "\n",
    "    return x_eq\n",
    "\n",
    "\n",
    "# 예시 데이터 (0에서 65535 사이의 값)\n",
    "original_vector = torch.randint(0, 65536, (16,), dtype=torch.int)\n",
    "\n",
    "# 1. 데이터 스케일링 (0에서 1 사이로 변환)\n",
    "scaled_vector = original_vector / 65535.0\n",
    "\n",
    "# 2. 히스토그램 평활화 적용\n",
    "equalized_vector = histogram_equalization(scaled_vector)\n",
    "\n",
    "print(\"Original Vector: \", original_vector)\n",
    "print(\"Scaled Vector: \", scaled_vector)\n",
    "print(\"Equalized Vector: \", equalized_vector)\n",
    "print(torch.norm(equalized_vector * 255 - original_vector.float()))"
   ]
  },
  {
   "cell_type": "code",
   "execution_count": null,
   "metadata": {},
   "outputs": [],
   "source": []
  }
 ],
 "metadata": {
  "kernelspec": {
   "display_name": "py312",
   "language": "python",
   "name": "python3"
  },
  "language_info": {
   "codemirror_mode": {
    "name": "ipython",
    "version": 3
   },
   "file_extension": ".py",
   "mimetype": "text/x-python",
   "name": "python",
   "nbconvert_exporter": "python",
   "pygments_lexer": "ipython3",
   "version": "3.12.1"
  }
 },
 "nbformat": 4,
 "nbformat_minor": 2
}
